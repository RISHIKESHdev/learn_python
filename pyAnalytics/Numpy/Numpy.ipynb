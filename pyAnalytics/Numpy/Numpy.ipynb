{
 "cells": [
  {
   "cell_type": "markdown",
   "id": "b3635e82-06b5-4472-808b-9a9d9c4aee34",
   "metadata": {
    "tags": []
   },
   "source": [
    "# NUMPY\n",
    "\n",
    "* Numpy is one of the core packages for numerical computing in python.\n",
    "    * Efficient numeric computation with C primitives\n",
    "    * Efficient collection with vectorized operations\n",
    "    * An integrated and natural linear algebra API\n",
    "    * A C API for connecting Numpy with libraries written in C,C++ or FORTRAN"
   ]
  },
  {
   "cell_type": "markdown",
   "id": "b3578e50-69d2-442e-922c-3eb862beea30",
   "metadata": {
    "jp-MarkdownHeadingCollapsed": true,
    "tags": []
   },
   "source": [
    "## Space and Time efficiency of numpy array"
   ]
  },
  {
   "cell_type": "code",
   "execution_count": null,
   "id": "07b877ce-fb53-4621-9552-8017ffa1dd8d",
   "metadata": {},
   "outputs": [],
   "source": [
    "import numpy as np\n",
    "import sys\n",
    "import time\n",
    "b=range(1000)\n",
    "b=list(b)\n",
    "c=np.arange(1000)"
   ]
  },
  {
   "cell_type": "code",
   "execution_count": null,
   "id": "ea70511a-0564-43aa-b2f2-5b1d7a6e6f25",
   "metadata": {},
   "outputs": [],
   "source": [
    "space_b=sys.getsizeof(5)*len(b)\n",
    "space_c=c.size*c.itemsize"
   ]
  },
  {
   "cell_type": "code",
   "execution_count": null,
   "id": "4073984c-59d4-4767-af19-80a0a2c16e4d",
   "metadata": {},
   "outputs": [],
   "source": [
    "print(f\"size of 1000 value list -->{space_b}<--\\nsize of 1000 value np array -->{space_c}<--\")"
   ]
  },
  {
   "cell_type": "code",
   "execution_count": null,
   "id": "6ec8b009-b755-4488-9caf-ef78e31d3f5a",
   "metadata": {},
   "outputs": [],
   "source": [
    "s_time_b=time.time()\n",
    "dummy=[(x+y) for x,y in zip(b,b)]\n",
    "e_time_b=time.time()\n",
    "time_b=(e_time_b-s_time_b)*1000"
   ]
  },
  {
   "cell_type": "code",
   "execution_count": null,
   "id": "027e318c-a1b7-466a-8cd4-5086ad1b1e21",
   "metadata": {},
   "outputs": [],
   "source": [
    "s_time_c=time.time()\n",
    "dummy=[(x+y) for x,y in zip(c,c)]\n",
    "e_time_c=time.time()\n",
    "time_c=(e_time_c-s_time_c)*1000"
   ]
  },
  {
   "cell_type": "code",
   "execution_count": null,
   "id": "f72cf002-ebe5-4594-b8c9-5c77d0b7bf25",
   "metadata": {},
   "outputs": [],
   "source": [
    "print(f\"time taken by list -->{time_b}s<--\\ntime taken by np array -->{time_c}s<--\")"
   ]
  },
  {
   "cell_type": "markdown",
   "id": "b3457acf-39fc-4d95-9369-9c4d732abfb3",
   "metadata": {
    "jp-MarkdownHeadingCollapsed": true,
    "tags": []
   },
   "source": [
    "## ndarray basic Attributes"
   ]
  },
  {
   "cell_type": "code",
   "execution_count": null,
   "id": "ae09ac72-b528-477f-bac2-e003287fa479",
   "metadata": {},
   "outputs": [],
   "source": [
    "import numpy as np\n",
    "np_a=np.array([1,2,3,4,5,6,7,'an',8])"
   ]
  },
  {
   "cell_type": "code",
   "execution_count": null,
   "id": "dc00ab67-6f0c-4b83-bead-3a688a27a5ad",
   "metadata": {},
   "outputs": [],
   "source": [
    "np_a.ndim #return no.of dimention"
   ]
  },
  {
   "cell_type": "code",
   "execution_count": null,
   "id": "7e6408fc-1f56-4a3c-b9e9-35637bdd715f",
   "metadata": {},
   "outputs": [],
   "source": [
    "np_a.shape #returns shape in tuple"
   ]
  },
  {
   "cell_type": "code",
   "execution_count": null,
   "id": "9a9dc6f6-51ce-4782-8c69-b99762f97db4",
   "metadata": {},
   "outputs": [],
   "source": [
    "np_a.size #total no.of elements"
   ]
  },
  {
   "cell_type": "code",
   "execution_count": null,
   "id": "54ab5f7c-850f-43b6-8fdd-35918a4d8299",
   "metadata": {},
   "outputs": [],
   "source": [
    "np_a.dtype #type of each element"
   ]
  },
  {
   "cell_type": "code",
   "execution_count": null,
   "id": "929e8706-b9c2-4512-8c11-d8bf6e0c66b6",
   "metadata": {},
   "outputs": [],
   "source": [
    "np_a.itemsize #size of each element in bytes"
   ]
  },
  {
   "cell_type": "code",
   "execution_count": null,
   "id": "a27888cb-d07c-4840-b4a0-2f4adee76942",
   "metadata": {},
   "outputs": [],
   "source": [
    "np_a.nbytes #total bytes consumed by all elements"
   ]
  },
  {
   "cell_type": "markdown",
   "id": "40025c2d-f6b9-4599-b551-68f960d0571a",
   "metadata": {
    "jp-MarkdownHeadingCollapsed": true,
    "tags": []
   },
   "source": [
    "### Bit more on `.shape`"
   ]
  },
  {
   "cell_type": "code",
   "execution_count": null,
   "id": "6074efaa-5229-47a2-aa39-06d0bf32fad2",
   "metadata": {},
   "outputs": [],
   "source": [
    "np_b=np.array([[1,2],[3,4],[5,6]])\n",
    "print(f\"dimention:{np_b.ndim}\\nshape:{np_b.shape}\\nsize:{np_b.size}\\nelement type:{np_b.dtype}\")"
   ]
  },
  {
   "cell_type": "code",
   "execution_count": null,
   "id": "8ecf6557-37be-44f4-aa0d-500f095581d0",
   "metadata": {},
   "outputs": [],
   "source": [
    "np_c=np.array([[[1]],[[4]],[[7]]],dtype=np.float64) #we can also explicitely mention the data type\n",
    "print(f\"dimention:{np_c.ndim}\\nshape:{np_c.shape}\\nsize:{np_c.size}\\nelement type:{np_c.dtype}\")"
   ]
  },
  {
   "cell_type": "markdown",
   "id": "6f3459f6-52d0-4bd4-9f40-96f9b4e57134",
   "metadata": {
    "jp-MarkdownHeadingCollapsed": true,
    "tags": []
   },
   "source": [
    "## Numpy array creation"
   ]
  },
  {
   "cell_type": "markdown",
   "id": "9e60acc9-712f-4870-b19a-25d1de00fbc1",
   "metadata": {},
   "source": [
    "* np_var=np.zeros(shape=(,))\n",
    "* np_var=np.full(shape=(2,3),fill_value=10.5)\n",
    "* By Numeric sequence generator\n",
    "    * `np.arange([start, ]stop, [step, ]dtype=None, *, like=None)`\n",
    "        * Numbers based on step value\n",
    "        * [start,stop)\n",
    "        * when using non integer step results may not br consistent  \n",
    "    * `np.linspace(Start=0,Stop=15,num=5,endpoint=True,retstep=False,dtype=\"int64\",axis=0)`\n",
    "        * Numbers created based on size value\n",
    "    * `np.geomspace(start, stop, num=50, endpoint=True, dtype=None, axis=0)`\n",
    "        * Return numbers spaced evenly on a log scale\n",
    "        * Number of sample to generate (num) Default is 50\n",
    "        * Circle  `np.geomspace(-1+0j, 1+0j, num=5)`\n",
    "        * Straight line `np.geomspace(1j, 1000j, num=4)`\n",
    "    * `np.logspace(start, stop, num=50, endpoint=True, base=10.0, dtype=None, axis=0)`\n",
    "        * Number of sample to generate (num) Default is 50\n",
    "        * By default base value is 10\n",
    "* By Random numbers generator"
   ]
  },
  {
   "cell_type": "markdown",
   "id": "3f4b3337-ef65-42c4-8b49-d1e18b209b30",
   "metadata": {
    "jp-MarkdownHeadingCollapsed": true,
    "tags": []
   },
   "source": [
    "### Basic ndarray generation"
   ]
  },
  {
   "cell_type": "code",
   "execution_count": null,
   "id": "dc308011-a3f4-4ba7-adf8-349348d4e378",
   "metadata": {},
   "outputs": [],
   "source": [
    "import numpy as np\n",
    "np_d=np.zeros(shape=(3,3))\n",
    "np_e=np.full(shape=(3,3),fill_value=\"R\")"
   ]
  },
  {
   "cell_type": "code",
   "execution_count": null,
   "id": "7bd50671-a584-498e-93af-4d6e6100c635",
   "metadata": {},
   "outputs": [],
   "source": [
    "print(f\"zeros: {np_d}\\nfull: {np_e}\")"
   ]
  },
  {
   "cell_type": "markdown",
   "id": "8d618fee-feea-4ab8-ab9a-6d2c072f567d",
   "metadata": {
    "jp-MarkdownHeadingCollapsed": true,
    "tags": []
   },
   "source": [
    "### Numeric sequence generator"
   ]
  },
  {
   "cell_type": "code",
   "execution_count": null,
   "id": "5d491647-6872-459e-b942-a8db41ed58d3",
   "metadata": {},
   "outputs": [],
   "source": [
    "import numpy as np\n",
    "# both are correct\n",
    "# np_e=np.arange(0,15,1,dtype=None)\n",
    "np_f=np.arange(start=0,stop=15,step=1,dtype=None)\n",
    "np_g=np.linspace(start=[0,1],stop=[15,16],num=5,endpoint=True,retstep=True,dtype=\"int64\",axis=0)\n",
    "np_h=np.geomspace(1, 1000, num=3, endpoint=False)\n",
    "np_i=np.logspace(2.0, 3.0, num=4, base=2.0)"
   ]
  },
  {
   "cell_type": "code",
   "execution_count": null,
   "id": "2f023fe7-44f8-4f9f-843e-0d28447a6573",
   "metadata": {},
   "outputs": [],
   "source": [
    "print(f\"arange:  {np_f}\\nlinspace:  {np_g}\\ngeomspace:  {np_h}\\nlogspace:  {np_i}\")"
   ]
  },
  {
   "cell_type": "markdown",
   "id": "0003664d-a646-4c31-bc7b-4217dc1d6ce6",
   "metadata": {
    "tags": []
   },
   "source": [
    "### Random numbers generators (numpy.random)"
   ]
  },
  {
   "cell_type": "markdown",
   "id": "2f41b817-945b-4301-b830-e1e551fcb544",
   "metadata": {
    "tags": []
   },
   "source": [
    "#### Basic"
   ]
  },
  {
   "cell_type": "markdown",
   "id": "c6c99876-6c0c-4afb-8f71-f038b781da3e",
   "metadata": {},
   "source": [
    "* Numpy’s random number routines produce pseudo random numbers using combinations of a BitGenerator  and a Generator \n",
    "* BitGenerators used to create sequences\n",
    "* Generator useed to those sequences to sample from different statistical distributions\n",
    "* __BitGenerators__\n",
    "    * Objects that generate random numbers.\n",
    "    * These are typically unsigned integer words filled with sequences of either 32 or 64 random bits.\n",
    "* __Generators__\n",
    "    * Objects that transform sequences of random bits from a BitGenerator into sequences of numbers that follow a specific probability distribution (such as uniform, Normal or Binomial) within a specified interval.\n",
    "    * the Generator can be initialized with a number of different BitGenerators. It exposes many different probability distributions.\n",
    "    * The `legacy RandomState random number` routines are still available, but limited to a single BitGenerator.\n",
    "* __Generator__ can be used as a replacement for __RandomState__. Both class instances hold a internal BitGenerator instance to provide the bit stream\n",
    "* `np.random.Generator.bit_generator` Gets the bit generator instance used by the generator\n",
    "| __RandomState__ | __Generators__ |\n",
    "| --- | --- |\n",
    "| MT19937 | PCG64 |\n",
    "| `random_sample` | `random` |\n",
    "| `rand` |  |\n",
    "| `randint` | `integers` |\n",
    "| `random_integers` |  |\n",
    "| `tomaxint` |  |\n",
    "| `seed` | `SeedSequence.spawn` |"
   ]
  },
  {
   "cell_type": "markdown",
   "id": "e55339dc-e286-494b-871b-faf8b85d7b92",
   "metadata": {},
   "source": [
    "* One can instantiate Generator directly with a BitGenerator instance."
   ]
  },
  {
   "cell_type": "code",
   "execution_count": null,
   "id": "9ad17869-58e4-4a40-808b-7ed17fafdd64",
   "metadata": {},
   "outputs": [],
   "source": [
    "from numpy.random import Generator, PCG64\n",
    "seed_value =12345\n",
    "rng = Generator(PCG64(seed_value))\n",
    "np_j=rng.standard_normal(8)"
   ]
  },
  {
   "cell_type": "markdown",
   "id": "ae1dc4e0-b7e8-4c3f-bea5-67a6800f281c",
   "metadata": {},
   "source": [
    "* We can also use `default_rng` to create a instance of Generator to create a random number"
   ]
  },
  {
   "cell_type": "code",
   "execution_count": null,
   "id": "0191b850-2a33-409d-9780-00e1c8b0fd31",
   "metadata": {},
   "outputs": [],
   "source": [
    "from numpy.random import default_rng\n",
    "seed_value=12345\n",
    "rng=default_rng(seed_value)\n",
    "np_k=rng.standard_normal(8)"
   ]
  },
  {
   "cell_type": "markdown",
   "id": "75996493-9f5d-482b-bfcf-f2c2ad4cf076",
   "metadata": {
    "jp-MarkdownHeadingCollapsed": true,
    "tags": []
   },
   "source": [
    "#### Seeding and Entropy"
   ]
  },
  {
   "cell_type": "markdown",
   "id": "55d3a1aa-cead-4299-ad23-437cbe27a210",
   "metadata": {},
   "source": [
    "* https://machinelearningmastery.com/what-is-information-entropy/\n",
    "* https://numpy.org/doc/stable/reference/random/bit_generators/generated/numpy.random.SeedSequence.html"
   ]
  },
  {
   "cell_type": "markdown",
   "id": "fcec809f-9bb4-4e40-a5ce-175328dd2270",
   "metadata": {
    "jp-MarkdownHeadingCollapsed": true,
    "tags": []
   },
   "source": [
    "#### Random Generator\n",
    "* https://numpy.org/doc/stable/reference/random/generator.html"
   ]
  },
  {
   "cell_type": "markdown",
   "id": "3e026634-3e21-4aae-9bf7-2d20e3bcf12e",
   "metadata": {},
   "source": [
    "* `np.random.Generator.integers(low, high=None, size=None, dtype=np.int64, endpoint=False)`\n",
    "    * size: int or tuple of ints, optional\n",
    "        * Output shape. If the given shape is, e.g., (m, n, k), then m * n * k samples are drawn. Default is None, in which case a single value is returned."
   ]
  },
  {
   "cell_type": "code",
   "execution_count": null,
   "id": "839e9007-385f-4b2a-a769-889497f07e0c",
   "metadata": {},
   "outputs": [],
   "source": [
    "from numpy.random import default_rng\n",
    "seed_value=12345\n",
    "rng=default_rng(seed_value)\n",
    "np_l=rng.integers(5, size=(2, 4))\n",
    "#1 by 3 array using 3 upperbound\n",
    "np_m=rng.integers(1, [3, 5, 10])\n",
    "#1 by 3 array using 3 lowerbound\n",
    "np_n=rng.integers([1, 5, 7], 10)\n",
    "#2 by 4 array using broadcasting \n",
    "np_o=rng.integers([1, 3, 5, 7], [[10], [20]], dtype=np.uint8)\n",
    "np_p=rng.integers([1, 3, 5, 7], [[10], [20]])"
   ]
  },
  {
   "cell_type": "code",
   "execution_count": null,
   "id": "4b3904db-aa10-4c14-bdf0-ae08d021dcf1",
   "metadata": {},
   "outputs": [],
   "source": [
    "np_l\n",
    "np_m\n",
    "np_n\n",
    "np_o\n",
    "np_p"
   ]
  },
  {
   "cell_type": "markdown",
   "id": "071064bc-02bf-44ab-a36b-ac65fd0a8583",
   "metadata": {},
   "source": [
    "* `np.random.Generator.random(size=None, dtype=np.float64, out=None)`\n",
    "    * Results are from the “continuous uniform” distribution over the stated interval.\n",
    "    * only __float64__ and __float32__ are supported\n",
    "    * fot Unif[a,b),b>a  `(b - a) * random() + a`"
   ]
  },
  {
   "cell_type": "code",
   "execution_count": null,
   "id": "d47fbd78-58a9-4e02-b4ad-db53e314c47a",
   "metadata": {},
   "outputs": [],
   "source": [
    "from numpy.random import default_rng\n",
    "seed_value=12345\n",
    "rng=default_rng(seed_value)\n",
    "np_q=rng.random((3,5))\n",
    "np_r=2*rng.random((3,5))+3"
   ]
  },
  {
   "cell_type": "code",
   "execution_count": null,
   "id": "cbed3c43-6e86-4fcc-90dc-a4afa56cd44d",
   "metadata": {},
   "outputs": [],
   "source": [
    "np_q\n",
    "np_r"
   ]
  },
  {
   "cell_type": "markdown",
   "id": "d245bac3-f8b2-4559-99ed-ac66884ad4a4",
   "metadata": {},
   "source": [
    "* `np.random.Generator.choice(a, size=None, replace=True, p=None, axis=0, shuffle=True)`\n",
    "    * p: 1-D array_like, optional\n",
    "        *The probabilities associated with each entry in a. If not given, the sample assumes a uniform distribution over all entries in a\n",
    "    * axis: axis along which selection is performed, Default is 0"
   ]
  },
  {
   "cell_type": "code",
   "execution_count": null,
   "id": "cfdfcbd2-f079-4b51-a456-8b1e9e5488b2",
   "metadata": {},
   "outputs": [],
   "source": [
    "from numpy.random import default_rng\n",
    "seed_value=12345\n",
    "rng=default_rng(seed_value)\n",
    "#Generate a uniform random sample from np.arange(5) of size 3\n",
    "np_s=rng.choice(5, 3)\n",
    "#Generate a non-uniform random sample from np.arange(5) of size 3\n",
    "np_t=rng.choice(5, 3, p=[0.1, 0, 0.3, 0.6, 0])\n",
    "#Generate a uniform random sample from a 2-D array along the first axis (the default), without replacement\n",
    "np_u=rng.choice([[0, 1, 2], [3, 4, 5], [6, 7, 8]], 2, replace=False)\n",
    "#Generate a uniform random sample from np.arange(5) of size 3 without replacement\n",
    "np_v=rng.choice(5, 3, replace=False)"
   ]
  },
  {
   "cell_type": "code",
   "execution_count": null,
   "id": "ba63ef21-64ea-4a72-b96d-aa10d5ebad60",
   "metadata": {},
   "outputs": [],
   "source": [
    "np_s\n",
    "np_t\n",
    "np_u\n",
    "np_v"
   ]
  },
  {
   "cell_type": "markdown",
   "id": "b229cd5a-b8e0-4656-a4f9-909f52d376a0",
   "metadata": {},
   "source": [
    "* `np.random.Generator.bytes(length)`\n",
    "    * Return no.of random bytes\n",
    "    * length: Number of random bytes"
   ]
  },
  {
   "cell_type": "code",
   "execution_count": null,
   "id": "c08a9614-3180-45c4-9d4a-50bd127bfc7f",
   "metadata": {},
   "outputs": [],
   "source": [
    "from numpy.random import default_rng\n",
    "seed_value=12345\n",
    "rng=default_rng(seed_value)\n",
    "np_w=rng.bytes(10)"
   ]
  },
  {
   "cell_type": "code",
   "execution_count": null,
   "id": "79937b33-0b61-456c-af7d-d026fbc76123",
   "metadata": {},
   "outputs": [],
   "source": [
    "np_w"
   ]
  },
  {
   "cell_type": "markdown",
   "id": "5b4a4bc7-d866-4009-9e3c-f3a1c62039a7",
   "metadata": {
    "tags": []
   },
   "source": [
    "#### Legacy Random Generation\n",
    "* This generator is frozen and will not have further improvement as of v1.16\n",
    "* https://numpy.org/doc/stable/reference/random/legacy.html?highlight=randomstate#numpy.random.RandomState"
   ]
  },
  {
   "cell_type": "markdown",
   "id": "e0aa9d41-ba06-40fe-b717-f4925560bb13",
   "metadata": {},
   "source": [
    "* `class numpy.random.RandomState(seed=None)`\n",
    "* It depends on Box-Muller normals or inverse CDF exponentials or gammas.\n",
    "* This class should only be used if it is essential to have randoms that are identical to what would have been produced by previous versions of NumPy\n",
    "* RandomState adds additional information to the state which is required when using Box-Muller normals since these are produced in pairs.\n",
    "* It is important to use RandomState.get_state, and not the underlying bit generators state"
   ]
  },
  {
   "cell_type": "code",
   "execution_count": null,
   "id": "1ea059d2-f707-4e41-b0a9-d085da95e7d2",
   "metadata": {},
   "outputs": [],
   "source": [
    "from numpy.random import MT19937\n",
    "from numpy.random import RandomState\n",
    "\n",
    "np_x = RandomState(12345)\n",
    "mt19937 = MT19937()\n",
    "mt19937.state = np_x.get_state()\n",
    "np_y = RandomState(mt19937)\n",
    "\n",
    "# Same output\n",
    "np_x.standard_normal()\n",
    "np_y.standard_normal()\n",
    "\n",
    "np_x.random()\n",
    "np_y.random()\n",
    "\n",
    "np_x.standard_exponential()\n",
    "np_y.standard_exponential()\n"
   ]
  },
  {
   "cell_type": "markdown",
   "id": "3e884e00-b093-44e6-940d-7a58f91c36ba",
   "metadata": {},
   "source": [
    "* `random.RandomState.rand(d0, d1, ..., dn)` Random values in a given shape\n",
    "* `random.RandomState.randn(d0, d1, ..., dn)` Returns a distribution from standard normal distribution\n",
    "* `random.RandomState.randint(low, high=None, size=None, dtype=int)` Returns random integers from low (inclusive) to high (exclusive)\n",
    "* `random.RandomState.random_integers(low, high=None, size=None)` Random integers of type np.int_ between low and high, inclusive\n",
    "* `random.RandomState.random_sample(size=None)` Return random floats in the half-open interval \n",
    "* `random.RandomState.choice(a, size=None, replace=True, p=None)` Generates a random sample from a given 1-D array\n",
    "* `random.RandomState.bytes(length)` Returns random bytes"
   ]
  },
  {
   "cell_type": "code",
   "execution_count": null,
   "id": "eae804a9-b8cc-4813-8ee9-676ccd9db96a",
   "metadata": {},
   "outputs": [],
   "source": [
    "import numpy as np\n",
    "np_z=np.random.rand(3,2)\n",
    "np_aa=np.random.randn()\n",
    "np_ab=random.RandomState.randint(low, high=None, size=None, dtype=int)\n",
    "np_ac=random.RandomState.random_integers(low, high=None, size=None)\n",
    "np_ad=random.RandomState.random_sample(size=None)\n",
    "np_ae=random.RandomState.choice(a, size=None, replace=True, p=None)\n",
    "np_af=random.RandomState.bytes(length)"
   ]
  },
  {
   "cell_type": "code",
   "execution_count": null,
   "id": "b878eea4-adfd-4475-a888-370e08ca7e57",
   "metadata": {},
   "outputs": [],
   "source": [
    "np_z\n",
    "zp_aa\n",
    "zp_ab\n",
    "zp_ac\n",
    "zp_ad\n",
    "zp_ae\n",
    "zp_af"
   ]
  },
  {
   "cell_type": "markdown",
   "id": "b0759d9e-da3a-4c46-a163-94409694ecf0",
   "metadata": {
    "tags": []
   },
   "source": [
    "## Broadcasting"
   ]
  },
  {
   "cell_type": "markdown",
   "id": "34eafd79-9172-45c9-a2b7-feaf9ddcb0e1",
   "metadata": {},
   "source": [
    "* Broadcasting basically describes how numpy treats nparray of different shapes during arithmetic operations\n",
    "* It provides a means of vectorizing array operations so that looping occurs in C instead of Python\n",
    "* numpy operations are usually done element-by-element which requires two arrays to have exactly the same shape\n",
    "* numpy’s broadcasting rule relaxes this constraint when the arrays’ shapes meet certain constraints\n",
    "* sometimes broadcasting may lead to inefficient use of memory"
   ]
  },
  {
   "attachments": {
    "3acd970c-d12b-4ff8-9409-cae411be7357.png": {
     "image/png": "[encoded data removed]"
    }
   },
   "cell_type": "markdown",
   "id": "2b2b7a52-2521-4c53-b9f2-fa3f7114827c",
   "metadata": {},
   "source": [
    "![image.png](attachment:3acd970c-d12b-4ff8-9409-cae411be7357.png)"
   ]
  },
  {
   "cell_type": "markdown",
   "id": "18d9b916-42ff-4ae7-b4dc-dc0af924dc20",
   "metadata": {},
   "source": [
    "* The stretching analogy is only conceptual\n",
    "* numpy is smart enough to use the original scalar value without actually making copies so that broadcasting operations are as memory and computationally efficient as possible."
   ]
  },
  {
   "cell_type": "code",
   "execution_count": null,
   "id": "f2ea7da8-cce9-4955-a076-8f20147abedb",
   "metadata": {},
   "outputs": [],
   "source": [
    "import numpy as np\n",
    "np_ag=np.array([1,2,3,4,5])\n",
    "np_ah=np.array([2,2,2,2,2])\n",
    "int_a=2\n",
    "np_ai=np_ag*np_ah\n",
    "#with help of broadcasting\n",
    "#the scalar value 'int_a' is streached to the shape of 'np_ag'\n",
    "np_aj=np_ag*int_a"
   ]
  },
  {
   "cell_type": "markdown",
   "id": "bc03e598-8ed3-4579-85c5-b286c3a56172",
   "metadata": {},
   "source": [
    "__________________________________________________________________________________________________________________________________________________\n",
    "__The Broadcasting Rule__\n",
    "* In order to broadcast, the size of the trailing axes for both arrays in an operation must either be the same size or one of them must be one.\n",
    "__________________________________________________________________________________________________________________________________________________"
   ]
  },
  {
   "cell_type": "code",
   "execution_count": null,
   "id": "7aceb925-cd65-4db7-b8c3-788fd50f0fe8",
   "metadata": {},
   "outputs": [],
   "source": [
    "from numpy import array, newaxis\n",
    "np_ak = array([0.0, 10.0, 20.0, 30.0])\n",
    "np_al = array([1.0, 2.0, 3.0])\n",
    "np_ak[:,newaxis] + np_al"
   ]
  },
  {
   "cell_type": "code",
   "execution_count": 63,
   "id": "94d52884-73d4-4086-b41d-39cfef2a24f3",
   "metadata": {},
   "outputs": [],
   "source": [
    "import numpy as np\n",
    "x = np.array([[0], [1], [2]])\n",
    "y = np.array([0, 1, 2])\n",
    "b = np.broadcast(x, y)"
   ]
  },
  {
   "cell_type": "code",
   "execution_count": 64,
   "id": "0f4da4a1-ff75-4d20-abe1-90a1f4e4600d",
   "metadata": {},
   "outputs": [
    {
     "data": {
      "text/plain": [
       "array([[0., 1., 2.],\n",
       "       [1., 2., 3.],\n",
       "       [2., 3., 4.]])"
      ]
     },
     "execution_count": 64,
     "metadata": {},
     "output_type": "execute_result"
    }
   ],
   "source": [
    "out = np.empty(b.shape)\n",
    "out.flat = [u+v for (u,v) in b]\n",
    "out"
   ]
  },
  {
   "cell_type": "code",
   "execution_count": 65,
   "id": "f2674663-9636-4331-9733-0318270b1bb1",
   "metadata": {},
   "outputs": [
    {
     "data": {
      "text/plain": [
       "array([[0, 1, 2],\n",
       "       [1, 2, 3],\n",
       "       [2, 3, 4]])"
      ]
     },
     "execution_count": 65,
     "metadata": {},
     "output_type": "execute_result"
    }
   ],
   "source": [
    "x+y"
   ]
  },
  {
   "cell_type": "code",
   "execution_count": 66,
   "id": "6a9a6b14-9b6b-4bd0-8771-05f36c25c5f2",
   "metadata": {},
   "outputs": [],
   "source": [
    "b.reset()\n",
    "l=[i for i in b]"
   ]
  },
  {
   "cell_type": "code",
   "execution_count": 67,
   "id": "44419371-28ee-40ea-8ffe-c7e71ea7791b",
   "metadata": {},
   "outputs": [
    {
     "data": {
      "text/plain": [
       "[(0, 0), (0, 1), (0, 2), (1, 0), (1, 1), (1, 2), (2, 0), (2, 1), (2, 2)]"
      ]
     },
     "execution_count": 67,
     "metadata": {},
     "output_type": "execute_result"
    }
   ],
   "source": [
    "l"
   ]
  },
  {
   "cell_type": "code",
   "execution_count": null,
   "id": "4ae5aff7-b39d-4145-969a-aa78d1ebcd0f",
   "metadata": {},
   "outputs": [],
   "source": []
  }
 ],
 "metadata": {
  "kernelspec": {
   "display_name": "Python 3 (ipykernel)",
   "language": "python",
   "name": "python3"
  },
  "language_info": {
   "codemirror_mode": {
    "name": "ipython",
    "version": 3
   },
   "file_extension": ".py",
   "mimetype": "text/x-python",
   "name": "python",
   "nbconvert_exporter": "python",
   "pygments_lexer": "ipython3",
   "version": "3.8.12"
  }
 },
 "nbformat": 4,
 "nbformat_minor": 5
}
